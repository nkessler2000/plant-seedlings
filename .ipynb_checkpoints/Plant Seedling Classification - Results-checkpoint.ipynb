{
 "cells": [
  {
   "cell_type": "markdown",
   "metadata": {},
   "source": [
    "## Plant Seed Classification - Results\n",
    "\n",
    "The goal of this classification problem is to analyze pictures for various species of plant seedlings and build a machine learning model that can identify which species the seedling belongs to based on a photograph."
   ]
  },
  {
   "cell_type": "markdown",
   "metadata": {},
   "source": [
    "### Data\n",
    "\n",
    "This dataset includes twelve different species of plants. The training set includes between 200 and 600 images for each plant species, with varying degrees of resolution, image quality, and blurriness.\n",
    "\n",
    "<h4>Sample Images for the Twelve Seedling Species</h4>\n",
    "<table border=\"0\">\n",
    "<tr> \n",
    "    <td><img src=\"images/samples/black.png\" height=\"150\" width=\"150\"><br><b>Black Grass</b></td>\n",
    "    <td><img src=\"images/samples/charlock.png\" height=\"150\" width=\"150\"><br><b>Charlock</b></td>\n",
    "    <td><img src=\"images/samples/cleavers.png\" height=\"150\" width=\"150\"><br><b>Cleavers</b></td>\n",
    "    <td><img src=\"images/samples/chickweed.png\" height=\"150\" width=\"150\"><br><b>Common Chickweed</b></td>\n",
    "</tr>\n",
    "<tr>\n",
    "    <td><img src=\"images/samples/wheat.png\" height=\"150\" width=\"150\"><br> <b>Common Wheat</b></td>\n",
    "    <td><img src=\"images/samples/fathen.png\" height=\"150\" width=\"150\"><br><b>Fat Hen</b></td>\n",
    "    <td><img src=\"images/samples/loose.png\" height=\"150\" width=\"150\"><br><b>Loose Silky-bent</b></td>\n",
    "    <td><img src=\"images/samples/maize.png\" height=\"150\" width=\"150\"><br><b>Maize</b></td>\n",
    "</tr>\n",
    "<tr>\n",
    "    <td><img src=\"images/samples/mayweed.png\" height=\"150\" width=\"150\"><br><b>Scentless Mayweed</b></td>\n",
    "    <td><img src=\"images/samples/shepherd.png\" height=\"150\" width=\"150\"><br><b>Shepherds Purse</b></td>\n",
    "    <td><img src=\"images/samples/cransebill.png\" height=\"150\" width=\"150\"><br><b>Small-flowered Cranesbill</b></td>\n",
    "    <td><img src=\"images/samples/sugar.png\" height=\"150\" width=\"150\"><br><b>Sugar beet</b></td>\n",
    "</tr>\n",
    "</table>\n"
   ]
  },
  {
   "cell_type": "markdown",
   "metadata": {},
   "source": [
    "Notice that some of the plants have unique shapes, with highly distinct leave configurations, while others the shape is far less distinct. Charlock and Fat Hen are very easy to tell apart, while Black Grass and Common Wheat look very similar. Seedlings like Common Chickweed and Sugar Beet, while having a reasonably distinct appearance, could be possible to confuse as they have a very similar shape."
   ]
  },
  {
   "cell_type": "markdown",
   "metadata": {},
   "source": [
    "### Methodology\n",
    "\n",
    "My first attempt to analyze this data was done by simply reading in a sample of images from each class and converting each image to a One-Dimensional numpy arrray, where each column represents a pixel. To allow for an equal number of columns for all images, the images were first resized to a uniform shape. Each pixel actually contains three sub-pixels, thereby making the total number of columns equal to $X_{dim}\\times Y_{dim}\\times 3$. \n",
    "\n",
    "The resulting dataset thus had one row for each image in my training set, and each column represented the sub-pixel value at that position.\n",
    "\n",
    "Using only this method and no additional modifications to the data, the __scikit-learn Random Forest Classifier__ was able to achieve an accuracy score of roughly 50%.\n",
    "\n",
    "I noticed that in the images, the part we are interested in classifying, i.e. the plant part, is green while the rest of the image is mostly brownish gravel. The pixels in the gravel part of the image may be introducing undue __\"noise\"__ that might be throwing off the accuracy of the model. Therefore my next attempt involved filtering the images in such a way as to clearly differentiate the plant part of the image from the gravel. \n",
    "\n",
    "Using GIMP's built-in filters, I tried various colorizing techniques including adjusting hues and color balances, using the Maximum RGB filter which separates all colors into their closest dominant RGB color, and also tried completely removing the background by converting to alpha and retaining only the plant portion. \n",
    "\n",
    "These techniques were effective in capturing only the shape of the plant. However, much of the plant detail and shading was lost as a result, possibly lowering the accuracy for similarly shaped plants with different shading.\n"
   ]
  },
  {
   "cell_type": "markdown",
   "metadata": {},
   "source": [
    "#### Sample of Filtered Images\n",
    "<table border=\"0\">\n",
    "<tr> \n",
    "    <td><img src=\"images/transform/orig_resize.png\" height=\"175\" width=\"175\"><br><b>Original Image</b></td>\n",
    "    <td><img src=\"images/transform/maxrgb.png\" height=\"175\" width=\"175\"><br><b>Maximum RGB Filter</b></td>\n",
    "    <td><img src=\"images/transform/alpha.png\" height=\"175\" width=\"175\"><br><b>Non-Green to Alpha</b></td>\n",
    "    <td><img src=\"images/transform/green_yellow.png\" height=\"175\" width=\"175\"><br><b>Highlight Green-Yellow Hues</b></td>\n",
    "</tr>\n",
    "</table>   "
   ]
  },
  {
   "cell_type": "markdown",
   "metadata": {},
   "source": [
    "The Maximum RGB filter was able to retain most of the plant detail including leaf veins and the shape of the leaves, while reducing all the non-plant parts, but retains only the green colors from the original image. The alpha-ized image captures the shape well while discarding all non-green colors entirely. The Green-Yellow image "
   ]
  },
  {
   "cell_type": "markdown",
   "metadata": {},
   "source": [
    "#### Applying Random Forest Classifier to Filtered Image\n",
    "\n",
    "Using the sets of filtered images shown above, I attempted to train the model using each set of filtered images independently. The results were promising, with a marked improvement in accuracy. For example, using the Random Forest Classifier with the default settings on the Maximum RGB Filtered image set saw a boost in score to over 60%, a 10 percentage point increase. The Green-Yellow highlighted image set proved even more effective, with accuracy scores in the high 60% range during testing. Clearly, by reducing image noise and allowing the model to focus  only on the parts of the image that are relevant, I was able to boost the scores considerably."
   ]
  },
  {
   "cell_type": "markdown",
   "metadata": {},
   "source": [
    "### Putting it all together\n",
    "\n",
    "#### Summary of Methods\n",
    "* Run each image through various filters using GIMP\n",
    "* Resize each image to 175x175 pixels\n",
    "* Read in each image as a numpy array using OpenCV\n",
    "* Reshape numpy array to 1-Dimension and create a table with 1 row per images\n",
    "* Join tables with data for each filtered image (along with original image) into one large table\n",
    "* Model using scikit-learn classifiers\n",
    "\n",
    "Using the filtered images to train the model saw a noticible improvement in model accuracy. Next, I tried joining all of the images together, such that for each observation in my training set, there would be all four images, each converted into a One-Dimensional array, and then joined together to create a single row with all four images for all observations in the training set.\n",
    "\n",
    "This created a very wide dataset, with $175\\times175\\times3\\times4=367500$ columns for each observation."
   ]
  },
  {
   "cell_type": "markdown",
   "metadata": {},
   "source": [
    "With the data prepared, I applied the _scikit-learn Random Forest Classifier_ to the joined data, this time using a _GridSearchCV_ with 5-fold cross-validation to optimize the results.\n",
    "\n",
    "<p><b>Random Forest 4-fold CV Results Summary</b></p>\n",
    "<table>\n",
    "    <tr><td><b>Score</b></td> <td>0.706199</td></tr>\n",
    "    <tr><td><b>Average Precision</b></td> <td>0.74</td></tr>\n",
    "    <tr><td><b>Average Recall</b></td> <td>0.72</td></tr>\n",
    "</table>\n"
   ]
  },
  {
   "cell_type": "markdown",
   "metadata": {},
   "source": [
    "<img src=\"images/conf_matrix/RF_4-fold_cv.png\">"
   ]
  },
  {
   "cell_type": "markdown",
   "metadata": {},
   "source": [
    "Using the dataset with all the filtered images joined with the original resulted in a large improvement in model accuracy. With this model, certain plants are able to be correctly predicted with very high precision and low error rate. However, other plants score very lowly with this model and are misclassified for nearly every observation. _Shepherds Purse_ was identified correctly for only 7% of observations in the test set, instead being identified as _Common Chickweed_ or _Scentless Mayweed_. Instead the model tends to overfit _Common Chickweed_ and _Loose Silky-bent_.\n",
    "\n",
    "<p><b>RF Model has difficulty discerning Shepherd's Purse</b></p>\n",
    "\n",
    "<table border=\"0\">\n",
    "<tr>\n",
    "    <td><img src=\"images/samples/shepherd.png\" height=\"200\" width=\"200\"><br><b>Shepherds Purse</b></td>\n",
    "    <td><img src=\"images/samples/chickweed.png\" height=\"200\" width=\"200\"><br><b>Common Chickweed</b></td>\n",
    "    <td><img src=\"images/samples/mayweed.png\" height=\"200\" width=\"200\"><br><b>Scentless Mayweed</b></td>\n",
    "</tr>\n",
    "</table>\n",
    "\n",
    "The leaves of these three are similar in size and shape, but in these sample images we can see that the leaf layouts are quite distinct. \n",
    "\n"
   ]
  },
  {
   "cell_type": "markdown",
   "metadata": {},
   "source": [
    "In addition to Random Forest, I also applied the _Extra Trees Classifier_ using 5-fold cross validation to the data.\n",
    "\n",
    "<b>Extra Trees 5-fold CV Results Summary</b>\n",
    "<table>\n",
    "    <tr><td><b>Score</b></td> <td>0.725614</td></tr>\n",
    "    <tr><td><b>Average Precision</b></td> <td>0.77</td></tr>\n",
    "    <tr><td><b>Average Recall</b></td> <td>0.72</td></tr>\n",
    "</table>\n"
   ]
  },
  {
   "cell_type": "markdown",
   "metadata": {},
   "source": [
    "<img src=\"images/conf_matrix/ETC_5-fold_cv.png\">"
   ]
  },
  {
   "cell_type": "markdown",
   "metadata": {},
   "source": [
    "The results of the _Extra Trees Classifier_ show a decent improvement over Random Forest. The model achieves considerably better than Random Forest for several plant species such as _Charlock_ and _Common Chickweed_. Most categories saw a boost with this classifier, including _Shepherds Purse_ which saw a boost from 7% to 30%. Other categories took a small hit such as _Black Grass_ and _Scentless Mayweed_, which saw scores drop for those categories. Overall, the classification scores were very similar to Random Forest."
   ]
  },
  {
   "cell_type": "markdown",
   "metadata": {},
   "source": [
    "### Conclusion\n",
    "\n",
    "Using only the raw image, the _ensemble_ classification methods available in _scikit-learn_ were able to identify images with only about a 50% average accuracy. By applying filtering to these images in order to capture only the plant portion and discard the \"noise\", I was able to improve the model accuracy by a decent degree. Taking all these filtered images, along with the original, and attempting to model using all this data together, I was able to achieve an accuracy of over 70% on average, and over 90% for certain species.\n",
    "\n",
    "Plants that have very distinct shapes and leaf layouts can be identified with a very high degree of accuracy. Plants that look too similar to other seedlings, the model has a hard time telling apart. Plants that also have less \"plant\" portion of the image, such as _Black Grass_ also are harder to distinguish.\n",
    "\n",
    "<table border=\"0\">\n",
    "    <tr>\n",
    "        <th>High Accuracy</th> <th>Mid Accuracy</th> <th>Low Accuracy</th>\n",
    "    </tr>\n",
    "    <tr>\n",
    "        <td> <img src=\"images/high_acc/charlock.png\" height=\"150\"  width=\"150\"><br>Charlock - 93%\n",
    "        <td> <img src=\"images/mid_acc/sugar.png\" height=\"150\" width=\"150\"><br>Sugar Beet - 71%\n",
    "        <td> <img src=\"images/low_acc/shep.png\" height=\"150\" width=\"150\"><br>Shepherds Purse - 33%\n",
    "    </tr>\n",
    "    <tr>\n",
    "        <td> <img src=\"images/high_acc/loose.png\" height=\"150\" width=\"150\"><br>Loose Silky-bent - 93%\n",
    "        <td> <img src=\"images/mid_acc/maize_2.png\" height=\"150\" width=\"150\"><br>Maize - 65%\n",
    "        <td> <img src=\"images/low_acc/wheat.png\" height=\"150\" width=\"150\"><br>Common Wheat - 16%\n",
    "    </tr>\n",
    "    <tr>\n",
    "        <td> <img src=\"images/high_acc/chick.png\" height=\"150\" width=\"150\"><br>Common Chickweed - 96%\n",
    "        <td> <img src=\"images/mid_acc/maize.png\" height=\"150\" width=\"150\"><br>Maize - 65%\n",
    "        <td> <img src=\"images/low_acc/black.png\" height=\"150\" width=\"150\"><br>Black Grass - 14%\n",
    "    </tr>\n",
    "    <tr>\n",
    "        <td> <img src=\"images/high_acc/crane.png\" height=\"150\" width=\"150\"><br>Cranesbill - 85%\n",
    "        <td> <img src=\"images/mid_acc/mayweed.png\" height=\"150\" width=\"150\"><br>Scentless Mayweed - 65%\n",
    "        <td> <img src=\"images/low_acc/black_2.png\" height=\"150\" width=\"150\"><br>Black Grass - 14%\n",
    "    </tr>\n",
    "</table>"
   ]
  },
  {
   "cell_type": "markdown",
   "metadata": {},
   "source": [
    "Plants with very distinct shapes appear to be easier for the model to distinguish. However, in the above sample images, _Cranesbill_ has a very similar shape to _Charlock_ but the texture and of the leaves appears different. This might be why the images with the Green-Yellow hue filter had the best accuracy of each of the individual image sets. \n",
    "\n",
    "Seedlings that achieved middle accuracy largely share shapes with other seedlings. _Sugar Beet_ for instance looks a lot like _Common Chickweed_ but is still distinct enough that the model could identify _Sugar Beet_ 71% of the time. Maize achieved only middling accuracy despite the highly distinct shape of the leaves. This may be because there are two different shapes that appear for maize. The first has a shape with two leaves very similar to other seedlings, and the second has a very distinct, round shape. I'd need to do further testing to see whether the type of maize leaf affects classification accuracy.\n",
    "\n",
    "Lastly, in the low accuracy category are the grass-like seedlings, which are hard enough to tell apart with the naked eye. These tended to be identified as _Loose Silky-bent_ instead of the correct label, though in the sample images above we see that Loose Silky-bent leaves are much thinner than the other grass type leaves. _Shepherds Purse_ also tended to be misidentified as _Common Chickweed_ even though the shapes appear quite distinct in the above images. Adjusting the model further to account for the thickness of the leaves might improve accuracy."
   ]
  }
 ],
 "metadata": {
  "kernelspec": {
   "display_name": "Python 3",
   "language": "python",
   "name": "python3"
  },
  "language_info": {
   "codemirror_mode": {
    "name": "ipython",
    "version": 3
   },
   "file_extension": ".py",
   "mimetype": "text/x-python",
   "name": "python",
   "nbconvert_exporter": "python",
   "pygments_lexer": "ipython3",
   "version": "3.6.5"
  }
 },
 "nbformat": 4,
 "nbformat_minor": 2
}
