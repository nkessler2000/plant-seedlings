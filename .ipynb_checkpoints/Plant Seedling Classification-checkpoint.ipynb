{
 "cells": [
  {
   "cell_type": "code",
   "execution_count": 1,
   "metadata": {},
   "outputs": [],
   "source": [
    "# settings \n",
    "# img_size is dimension to resize images to.\n",
    "img_size = (175,175)\n",
    "# number of pics in each class to use. use None for all\n",
    "pics_per_class = 100\n",
    "#pics_per_class = None\n",
    "# set zipped datafile location​img_size\n",
    "data_file = '~/kaggle/competitions/plant-seedlings-classification/train.zip'\n",
    "\n",
    "\n",
    "# H2O server settings\n",
    "# h2o_server = 'localhost'\n",
    "h2o_server = 'nkpc'\n",
    "h2o_port = 54321\n",
    "max_mem_gb = 14\n",
    "min_mem_gb = 4\n",
    "\n",
    "# imports\n",
    "import h2o\n",
    "import os\n",
    "import zipfile\n",
    "import pandas as pd\n",
    "import numpy as np\n",
    "import cv2\n",
    "from scipy import stats\n",
    "import matplotlib.pyplot as plt\n",
    "import itertools\n",
    "import re\n",
    "import seaborn as sns\n",
    "from ds_functions import *\n",
    "\n",
    "from h2o.estimators import H2ORandomForestEstimator\n",
    "from h2o.estimators.deeplearning import H2ODeepLearningEstimator\n",
    "from h2o.estimators.gbm import H2OGradientBoostingEstimator\n",
    "\n",
    "\n",
    "def h2oinit():\n",
    "    h2o.init(ip=h2o_server, port=h2o_port, \n",
    "         max_mem_size_GB=max_mem_gb, min_mem_size_GB=min_mem_gb)\n",
    "    \n",
    "def perf_to_cm_array(perf):\n",
    "    \"\"\"Takes an h2o model performance object and returns a numpy array\n",
    "    with the confusion matrix)\"\"\"\n",
    "    cm_df = perf.confusion_matrix().as_data_frame()\n",
    "    n_classes = len(cm_df) - 1\n",
    "    return np.array(cm_df.iloc[:n_classes, :n_classes])"
   ]
  },
  {
   "cell_type": "code",
   "execution_count": 2,
   "metadata": {},
   "outputs": [
    {
     "name": "stdout",
     "output_type": "stream",
     "text": [
      "Checking whether there is an H2O instance running at http://nkpc:54321. connected.\n"
     ]
    },
    {
     "data": {
      "text/html": [
       "<div style=\"overflow:auto\"><table style=\"width:50%\"><tr><td>H2O cluster uptime:</td>\n",
       "<td>42 secs</td></tr>\n",
       "<tr><td>H2O cluster timezone:</td>\n",
       "<td>America/Los_Angeles</td></tr>\n",
       "<tr><td>H2O data parsing timezone:</td>\n",
       "<td>UTC</td></tr>\n",
       "<tr><td>H2O cluster version:</td>\n",
       "<td>3.18.0.5</td></tr>\n",
       "<tr><td>H2O cluster version age:</td>\n",
       "<td>22 days </td></tr>\n",
       "<tr><td>H2O cluster name:</td>\n",
       "<td>Nick</td></tr>\n",
       "<tr><td>H2O cluster total nodes:</td>\n",
       "<td>1</td></tr>\n",
       "<tr><td>H2O cluster free memory:</td>\n",
       "<td>12.43 Gb</td></tr>\n",
       "<tr><td>H2O cluster total cores:</td>\n",
       "<td>4</td></tr>\n",
       "<tr><td>H2O cluster allowed cores:</td>\n",
       "<td>4</td></tr>\n",
       "<tr><td>H2O cluster status:</td>\n",
       "<td>locked, healthy</td></tr>\n",
       "<tr><td>H2O connection url:</td>\n",
       "<td>http://nkpc:54321</td></tr>\n",
       "<tr><td>H2O connection proxy:</td>\n",
       "<td>None</td></tr>\n",
       "<tr><td>H2O internal security:</td>\n",
       "<td>False</td></tr>\n",
       "<tr><td>H2O API Extensions:</td>\n",
       "<td>Algos, AutoML, Core V3, Core V4</td></tr>\n",
       "<tr><td>Python version:</td>\n",
       "<td>3.6.4 final</td></tr></table></div>"
      ],
      "text/plain": [
       "--------------------------  -------------------------------\n",
       "H2O cluster uptime:         42 secs\n",
       "H2O cluster timezone:       America/Los_Angeles\n",
       "H2O data parsing timezone:  UTC\n",
       "H2O cluster version:        3.18.0.5\n",
       "H2O cluster version age:    22 days\n",
       "H2O cluster name:           Nick\n",
       "H2O cluster total nodes:    1\n",
       "H2O cluster free memory:    12.43 Gb\n",
       "H2O cluster total cores:    4\n",
       "H2O cluster allowed cores:  4\n",
       "H2O cluster status:         locked, healthy\n",
       "H2O connection url:         http://nkpc:54321\n",
       "H2O connection proxy:\n",
       "H2O internal security:      False\n",
       "H2O API Extensions:         Algos, AutoML, Core V3, Core V4\n",
       "Python version:             3.6.4 final\n",
       "--------------------------  -------------------------------"
      ]
     },
     "metadata": {},
     "output_type": "display_data"
    }
   ],
   "source": [
    "h2oinit()"
   ]
  },
  {
   "cell_type": "code",
   "execution_count": 3,
   "metadata": {},
   "outputs": [],
   "source": [
    "def images_to_df(filepath, img_size=(200, 200), pics_per_class=None):\n",
    "    \"\"\"Extracts images from data file and converts each into an H2O dataframe row. \n",
    "    Outputs a pandas dataframe\"\"\"\n",
    "    cols = ['px' + str(i) for i in range(1,1 + 3 * img_size[0] * img_size[1])]\n",
    "    cols = ['class', 'id'] + cols\n",
    "    # set column names\n",
    "    \n",
    "    ret_df = pd.DataFrame()\n",
    "\n",
    "    # extrac the images through each folder. \n",
    "    if not os.path.isdir('./train'):\n",
    "        zfile = zipfile.ZipFile(filepath)\n",
    "        zfile.extractall()\n",
    "\n",
    "    for dname in os.listdir('./train'):\n",
    "        if os.path.isdir('./train/' + dname):\n",
    "            for fname in os.listdir('./train/' + dname)[0:pics_per_class]:\n",
    "                cl = dname\n",
    "                ix = fname[:-4]\n",
    "                im = cv2.imread('./train/' + dname + '/' + fname)\n",
    "                \n",
    "                # to put into an DataFrame for classification, \n",
    "                # all the images need to be the same dimension. \n",
    "                im = cv2.resize(im, (img_size[0],img_size[1])).reshape(-1)\n",
    "                im = im.reshape(1, len(im))\n",
    "                df = pd.DataFrame({\n",
    "                    'class':[cl],\n",
    "                    'id':[ix]\n",
    "                })\n",
    "                df = df.join(pd.DataFrame(im))\n",
    "                ret_df = pd.concat([ret_df, df])\n",
    "    ret_df.columns = cols\n",
    "    return ret_df.reset_index(drop=True)"
   ]
  },
  {
   "cell_type": "code",
   "execution_count": 4,
   "metadata": {},
   "outputs": [
    {
     "ename": "SyntaxError",
     "evalue": "invalid syntax (<ipython-input-4-857472029013>, line 4)",
     "output_type": "error",
     "traceback": [
      "\u001b[1;36m  File \u001b[1;32m\"<ipython-input-4-857472029013>\"\u001b[1;36m, line \u001b[1;32m4\u001b[0m\n\u001b[1;33m    pics_per_class=pics_per_class)\u001b[0m\n\u001b[1;37m                 ^\u001b[0m\n\u001b[1;31mSyntaxError\u001b[0m\u001b[1;31m:\u001b[0m invalid syntax\n"
     ]
    }
   ],
   "source": [
    "# load the data\n",
    "data = images_to_df(data_file, \n",
    "                    img_size=img_size,\n",
    "                    pics_per_class=pics_per_class)\n"
   ]
  },
  {
   "cell_type": "code",
   "execution_count": null,
   "metadata": {},
   "outputs": [],
   "source": [
    "# notice that in the pictures, the green part is the plant. maybe try enhancing the weight for green columns\n",
    "# each row is a 500 X 500 with 3 color values, for a total of 750,000 pixels. \n",
    "# thus the greens are going to be one the sets of 250,000 pixels. Figure out which one.\n",
    "\n",
    "# try plotting the data. See what color is the most common\n",
    "colrange = {}\n",
    "for i in range(1,4):\n",
    "    colrange[i] = ['px' + str(j) for j in range(1 + (i-1), img_size[0] * img_size[1], 3)]\n",
    "    \n",
    "color_sums = pd.DataFrame({\n",
    "    'id': data.loc[:, 'id']\n",
    "})\n",
    "\n",
    "for i in range(1,4):\n",
    "    color_sums['color' + str(i)] = data.loc[:, colrange[i]].sum(axis=1).reset_index(drop=True)\n",
    "\n",
    "# each row in the resulting dataframe represents an image, and the columns are the sum of the\n",
    "# pixel values for that color range. Assuming that's how it works.\n",
    "color_sums.head(50)\n",
    "\n",
    "# just looking at the head, it does appear color3 dominates. Could that be green?\n",
    "# Let's take a closer look"
   ]
  },
  {
   "cell_type": "code",
   "execution_count": null,
   "metadata": {},
   "outputs": [],
   "source": [
    "color_sums.iloc[:, 0:3].sum().plot(kind='bar')\n",
    "plt.show()\n",
    "\n",
    "# well, I see that color 3 is the most represented. Doesn't necessarily mean that's green\n",
    "# many of the pictures have lots of gravel which is more reddish. I'm guessing the \n",
    "# color order is Blue - Red - Green, which matches the plot but that's just a coincidence\n",
    "\n",
    "# i need to look up the documentation for OpenCV\n",
    "\n",
    "\n",
    "#####\n",
    "# next look for an association between color distribution and class"
   ]
  },
  {
   "cell_type": "code",
   "execution_count": null,
   "metadata": {
    "scrolled": true
   },
   "outputs": [],
   "source": [
    "# I'll try joining the total color data to the pixel data and include the sum of each color as a feature\n",
    "if not 'color1' in list(data.columns):\n",
    "    data = data.merge(color_sums, on='id')\n",
    "\n",
    "data.head()"
   ]
  },
  {
   "cell_type": "code",
   "execution_count": null,
   "metadata": {
    "scrolled": false
   },
   "outputs": [],
   "source": [
    "# this isn't much to work with, but let's see if I can run it through h2o\n",
    "features = ['px' + str(i) for i in range(1,1 + 3 * img_size[0] * img_size[1])] + ['color'+str(i) for i in range(1,4)]\n",
    "target = 'class'\n",
    "\n",
    "h2oinit()\n",
    "\n",
    "h2o_data = h2o.H2OFrame(python_obj=data.drop('id', axis=1))\n"
   ]
  },
  {
   "cell_type": "code",
   "execution_count": null,
   "metadata": {},
   "outputs": [],
   "source": [
    "# create train/test set.\n",
    "h2o_train, h2o_test = h2o_data.split_frame(ratios=[0.90])\n"
   ]
  },
  {
   "cell_type": "code",
   "execution_count": null,
   "metadata": {},
   "outputs": [],
   "source": [
    "rf = H2ORandomForestEstimator()\n",
    "\n",
    "rf.train(x=features, y=target, training_frame=h2o_train)"
   ]
  },
  {
   "cell_type": "code",
   "execution_count": null,
   "metadata": {},
   "outputs": [],
   "source": [
    "rf_perf = rf.model_performance(test_data=h2o_test)\n",
    "\n",
    "rf_perf"
   ]
  },
  {
   "cell_type": "code",
   "execution_count": null,
   "metadata": {
    "scrolled": false
   },
   "outputs": [],
   "source": [
    "dl = H2ODeepLearningEstimator()\n",
    "\n",
    "# Suggestions:\n",
    "# Limit the size of the first hidden layer\n",
    "dl.train(x=features, y=target, training_frame=h2o_train)"
   ]
  },
  {
   "cell_type": "code",
   "execution_count": null,
   "metadata": {},
   "outputs": [],
   "source": [
    "perf = dl.model_performance(test_frame=h2o_test)"
   ]
  }
 ],
 "metadata": {
  "kernelspec": {
   "display_name": "Python 3",
   "language": "python",
   "name": "python3"
  },
  "language_info": {
   "codemirror_mode": {
    "name": "ipython",
    "version": 3
   },
   "file_extension": ".py",
   "mimetype": "text/x-python",
   "name": "python",
   "nbconvert_exporter": "python",
   "pygments_lexer": "ipython3",
   "version": "3.6.4"
  }
 },
 "nbformat": 4,
 "nbformat_minor": 2
}
