{
 "cells": [
  {
   "cell_type": "code",
   "execution_count": 3,
   "metadata": {},
   "outputs": [],
   "source": [
    "# settings \n",
    "# img_size is dimension to resize images to.\n",
    "img_size = (175,175)\n",
    "# number of pics in each class to use. use None for all\n",
    "#pics_per_class = 300\n",
    "pics_per_class = None\n",
    "# set zipped datafile location​img_size\n",
    "data_file = 'C:/Users/Nick/git-repos/plant-seedlings/maxrgb.zip'\n",
    "alpha_file = 'C:/Users/Nick/git-repos//plant-seedlings/alpha.zip'\n",
    "from ds_functions import *\n"
   ]
  },
  {
   "cell_type": "code",
   "execution_count": null,
   "metadata": {},
   "outputs": [],
   "source": [
    "data = images_to_df(data_file, \n",
    "                    img_size=img_size, \n",
    "                    pics_per_class=pics_per_class)\n",
    "\n",
    "# Set features and target\n",
    "features = ['px' + str(i) for i in range(1,1 + 3 * img_size[0] * img_size[1])] \n",
    "features += ['color_sum'+str(i) for i in range(1,4)]\n",
    "features += ['color_mean'+str(i) for i in range(1,4)]\n",
    "\n",
    "target = 'class'\n"
   ]
  },
  {
   "cell_type": "code",
   "execution_count": null,
   "metadata": {
    "scrolled": true
   },
   "outputs": [],
   "source": [
    "# try plotting the data. See what color is the most common\n",
    "colrange = {}\n",
    "for i in range(1,4):\n",
    "    colrange[i] = ['px' + str(j) for j in range(1 + (i-1), img_size[0] * img_size[1], 3)]\n",
    "    \n",
    "color_sums = pd.DataFrame({\n",
    "    'id': data.loc[:, 'id']\n",
    "})\n",
    "\n",
    "for i in range(1,4):\n",
    "    color_sums['color_sum' + str(i)] = data.loc[:, colrange[i]].sum(axis=1).reset_index(drop=True)\n",
    "    # also add the average\n",
    "    color_sums['color_mean' + str(i)] = data.loc[:, colrange[i]].mean(axis=1).reset_index(drop=True)\n",
    "    \n",
    "# I'll try joining the total color data to the pixel data and include the sum of each color as a feature\n",
    "if not 'color_sum1' in list(data.columns):\n",
    "    data = data.merge(color_sums, on='id')\n",
    "\n",
    "data.head()"
   ]
  },
  {
   "cell_type": "code",
   "execution_count": null,
   "metadata": {},
   "outputs": [],
   "source": [
    "max_features = int(np.round(np.sqrt(len(features)))) / 2\n",
    "rf = RandomForestClassifier(n_estimators=800, n_jobs=4, max_features='auto')\n",
    "\n",
    "rf_model = sk_cls(rf, data, X=features, y=target)\n",
    "rf_model.run()"
   ]
  },
  {
   "cell_type": "code",
   "execution_count": null,
   "metadata": {
    "scrolled": false
   },
   "outputs": [],
   "source": [
    "rf_model.show()\n"
   ]
  },
  {
   "cell_type": "code",
   "execution_count": null,
   "metadata": {},
   "outputs": [],
   "source": [
    "data_alpha = images_to_df(alpha_file, \n",
    "                    img_size=img_size, \n",
    "                    pics_per_class=pics_per_class)\n",
    "\n",
    "# Set features and target\n",
    "features = ['px' + str(i) for i in range(1,1 + 3 * img_size[0] * img_size[1])] \n",
    "features += ['color_sum'+str(i) for i in range(1,4)]\n",
    "features += ['color_mean'+str(i) for i in range(1,4)]\n",
    "\n",
    "target = 'class'"
   ]
  },
  {
   "cell_type": "code",
   "execution_count": null,
   "metadata": {},
   "outputs": [],
   "source": [
    "rf_alpha = sk_cls(RandomForestClassifier(n_estimators=600, n_jobs=4,\n",
    "                                         data=data_alpha, X=features, y=target))\n",
    "rf_alpha.run()"
   ]
  },
  {
   "cell_type": "code",
   "execution_count": null,
   "metadata": {},
   "outputs": [],
   "source": [
    "rf_alpha.show()"
   ]
  },
  {
   "cell_type": "code",
   "execution_count": null,
   "metadata": {},
   "outputs": [],
   "source": [
    "colorized_2_file = '~/git-repos/plant-seedlings/colorized_2.zip'\n",
    "\n",
    "data_col2 = images_to_df(colorized_2_file, \n",
    "                    img_size=img_size, \n",
    "                    pics_per_class=pics_per_class)\n",
    "\n",
    "# Set features and target\n",
    "features = ['px' + str(i) for i in range(1,1 + 3 * img_size[0] * img_size[1])] \n",
    "features += ['color_sum'+str(i) for i in range(1,4)]\n",
    "features += ['color_mean'+str(i) for i in range(1,4)]\n",
    "\n",
    "target = 'class'"
   ]
  },
  {
   "cell_type": "code",
   "execution_count": null,
   "metadata": {},
   "outputs": [],
   "source": [
    "rf_col = sk_cls(RandomForestClassifier(n_estimators=600, n_jobs=4,\n",
    "                                         data=data_col2, X=features, y=target))\n",
    "rf_col.run()"
   ]
  },
  {
   "cell_type": "code",
   "execution_count": null,
   "metadata": {},
   "outputs": [],
   "source": [
    "rf_col.show()"
   ]
  }
 ],
 "metadata": {
  "kernelspec": {
   "display_name": "Python 3",
   "language": "python",
   "name": "python3"
  },
  "language_info": {
   "codemirror_mode": {
    "name": "ipython",
    "version": 3
   },
   "file_extension": ".py",
   "mimetype": "text/x-python",
   "name": "python",
   "nbconvert_exporter": "python",
   "pygments_lexer": "ipython3",
   "version": "3.6.5"
  }
 },
 "nbformat": 4,
 "nbformat_minor": 2
}
